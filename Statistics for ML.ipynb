{
 "cells": [
  {
   "cell_type": "markdown",
   "metadata": {},
   "source": [
    "__Statistics__ is the branch of mathematics dealing with the collection, analysis, interpretation,\n",
    "presentation, and organization of numerical data.\n",
    "\n",
    "Statistics are mainly classified into two subbranches:\n",
    "1. __Descriptive statistics__: These are used to summarize data, such as the mean,\n",
    "standard deviation for continuous data types (such as age), whereas frequency\n",
    "and percentage are useful for categorical data (such as gender).\n",
    "2. __Inferential statistics__: Many times, a collection of the entire data (also known as\n",
    "population in statistical methodology) is impossible, hence a subset of the data\n",
    "points is collected, also called a sample, and conclusions about the entire\n",
    "population will be drawn, which is known as inferential statistics. Inferences are\n",
    "drawn using hypothesis testing, the estimation of numerical characteristics, the\n",
    "correlation of relationships within data, and so on.\n",
    "\n",
    "__Machine learning__ is the branch of computer science that utilizes past experience to learn\n",
    "from and use its knowledge to make future decisions. Machine learning is at the\n",
    "intersection of computer science, engineering, and statistics. The goal of machine learning is\n",
    "to generalize a detectable pattern or to create an unknown rule from given examples\n",
    "\n",
    "1. __Supervised learning__: This is teaching machines to learn the relationship between\n",
    "other variables and a target variable. The major segments within\n",
    "supervised learning are as follows:\n",
    "    1. Classification problem\n",
    "    2. Regression problem\n",
    "2. __Unsupervised learning__: In unsupervised learning, algorithms learn by\n",
    "themselves without any supervision or without any target variable provided. It is\n",
    "a question of finding hidden patterns and relations in the given data. The\n",
    "categories in unsupervised learning are as follows:\n",
    "    1. Dimensionality reduction\n",
    "    2. Clustering\n",
    "3. __Reinforcement learning__: This allows the machine or agent to learn its behavior\n",
    "based on feedback from the environment. In reinforcement learning, the agent\n",
    "takes a series of decisive actions without supervision and, in the end, a reward\n",
    "will be given, either +1 or -1. Based on the final payoff/reward, the agent\n",
    "reevaluates its paths. Reinforcement learning problems are closer to the artificial\n",
    "intelligence methodology rather than frequently used machine learning\n",
    "algorithms.\n",
    "\n",
    "Difference between Statistics and ML:\n",
    "1. Relationships are formed in forms of mathematical equations in statistics whereas in ML it is formed in the form of rule-based programming. \n",
    "2. Statistical model predicts the output with Machine learning just predicts the output with accuracy of 85 percent and having 90 percent confidence about it. Machine learning just predicts the output with accuracy of 85 percent.\n",
    "3. Statistics  -  Data will be split into 70 percent - 30 percent to create training and testing data. Model developed on training data and tested on testing data. ML - Data will be split into 50 percent - 25 percent - 25 percent to create training, validation, andtesting data. Models developed on training and hyperparameters are tuned on validation data and finally get evaluated against test data.\n",
    "\n",
    "Steps in building ML Model:\n",
    "1. Collection of Data\n",
    "2. Data preparation and outlier treatment\n",
    "3. Data Analysis and Feature Engineering\n",
    "4. Train algorithm on training and validation data\n",
    "5. Test algorithm on test data\n",
    "6. Deploy algorithm\n",
    "\n",
    "__Statistics Fundamentals__\n",
    "1. __Population__: This is the totality, the complete list of observations, or all the data\n",
    "points about the subject under study.\n",
    "2. __Sample__:A sample is a subset of a population, usually a small portion of the\n",
    "population that is being analyzed.\n",
    "3. __Parameter versus Statistic__: Any measure that is calculated on the population is a\n",
    "parameter, whereas on a sample it is called a statistic.\n",
    "4. __Mean__: Arithmetic average. The mean is sensitive to outliers in the data. An outlier is the value of a set or column that is highly deviant from the many other values in the same data; it usually has very high or low values.\n",
    "5. __Median__:This is the midpoint of the data, and is calculated by either arranging it in ascending or descending order. If there are N observations.\n",
    "6. __Mode__:This is the most repetitive data point in the data.\n",
    "\n",
    "<img src=\"images/mean_median_mode.png\">"
   ]
  },
  {
   "cell_type": "code",
   "execution_count": 6,
   "metadata": {},
   "outputs": [],
   "source": [
    "import numpy as np\n",
    "from scipy import stats"
   ]
  },
  {
   "cell_type": "code",
   "execution_count": 7,
   "metadata": {},
   "outputs": [],
   "source": [
    "data = np.array([4, 5, 1, 6, 8, 1, 3, 6, 7])"
   ]
  },
  {
   "cell_type": "code",
   "execution_count": 9,
   "metadata": {},
   "outputs": [
    {
     "data": {
      "text/plain": [
       "4.555555555555555"
      ]
     },
     "execution_count": 9,
     "metadata": {},
     "output_type": "execute_result"
    }
   ],
   "source": [
    "mean = np.mean(data)\n",
    "mean"
   ]
  },
  {
   "cell_type": "code",
   "execution_count": 10,
   "metadata": {},
   "outputs": [
    {
     "data": {
      "text/plain": [
       "5.0"
      ]
     },
     "execution_count": 10,
     "metadata": {},
     "output_type": "execute_result"
    }
   ],
   "source": [
    "median = np.median(data)\n",
    "median"
   ]
  },
  {
   "cell_type": "code",
   "execution_count": 13,
   "metadata": {},
   "outputs": [
    {
     "data": {
      "text/plain": [
       "1"
      ]
     },
     "execution_count": 13,
     "metadata": {},
     "output_type": "execute_result"
    }
   ],
   "source": [
    "mode = stats.mode(data)\n",
    "mode[0][0]"
   ]
  },
  {
   "cell_type": "markdown",
   "metadata": {},
   "source": [
    "7. __Measure of Variation__:Dispersion is the variation in the data, and measures the inconsistencies in the value of variables in the data.\n",
    "8. __Range__:Difference between the maximum and minimum of the value.\n",
    "9. __Variance__: This is the mean of squared deviations from the mean. The dimension of variance is the square of the actual values. The reason to use denominator N-1 for a sample instead of N in the population is due the degree of freedom. 1 degree of freedom lost in a sample by the time of calculating variance is due to extraction of substitution of sample. \n",
    "10. __Standard Deviation__: This is the square root of variance. By applying the square root on variance, we measure the dispersion with respect to the original variable rather than square of the dimension. \n",
    "11. __Quantiles__:These are identical fragments of the data. Quantiles cover percentiles, deciles, quartiles, and so on. These measures are calculated after arranging the data in ascending order\n",
    "    1. __Percentile__:This is the percentage of data points below the value of the original whole data. The median is the 50 th percentile, as the number of data points below the median is about 50 percent of the data.\n",
    "    2. __Decile__: This is 10th percentile, which means the number of data points below the decile is 10 percent of the whole data.\n",
    "    3. __Quartile__: This is one-fourth of the data, and also is the 25 percentile. The first quartile is 25 percent of the data, the second quartile is 50 percent of the data, the third quartile is 75 percent of the data. The second quartile is also known as the median or 50 th percentile or 5 th decile.\n",
    "    4. __Interquartile Range__: This is the difference between the third quartile and first quartile. It is effective in identifying outliers in data. The interquartile range describes the middle 50 percent of the data points."
   ]
  },
  {
   "cell_type": "code",
   "execution_count": null,
   "metadata": {},
   "outputs": [],
   "source": []
  }
 ],
 "metadata": {
  "kernelspec": {
   "display_name": "Python 3",
   "language": "python",
   "name": "python3"
  },
  "language_info": {
   "codemirror_mode": {
    "name": "ipython",
    "version": 3
   },
   "file_extension": ".py",
   "mimetype": "text/x-python",
   "name": "python",
   "nbconvert_exporter": "python",
   "pygments_lexer": "ipython3",
   "version": "3.6.8"
  }
 },
 "nbformat": 4,
 "nbformat_minor": 2
}
